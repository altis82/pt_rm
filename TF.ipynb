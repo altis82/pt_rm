{
 "cells": [
  {
   "cell_type": "markdown",
   "metadata": {},
   "source": [
    "# Introduction\n",
    "- There are some libs:\n",
    "    - TensorBoard\n",
    "    - TensorFlow Fold\n",
    "    - TensorFlow Transform\n",
    "\n",
    "# TF: data flow graph\n",
    "TF is based entirely on the strucuturing and use of graphs and on the flow of data through it.\n",
    "The graph created internally to the TF running system is called DataFlow Graph and it is strucutured in runtime according to the math model.\n",
    "The nodes of Data Flow Graph represent math operations while the edges represent tensors (multidimensional data arrays)\n"
   ]
  }
 ],
 "metadata": {
  "language_info": {
   "name": "python"
  }
 },
 "nbformat": 4,
 "nbformat_minor": 2
}
